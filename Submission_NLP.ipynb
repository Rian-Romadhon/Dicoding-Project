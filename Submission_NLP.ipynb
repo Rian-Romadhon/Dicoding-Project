{
  "nbformat": 4,
  "nbformat_minor": 0,
  "metadata": {
    "colab": {
      "name": "Submission NLP.ipynb",
      "provenance": [],
      "collapsed_sections": []
    },
    "kernelspec": {
      "name": "python3",
      "display_name": "Python 3"
    }
  },
  "cells": [
    {
      "cell_type": "markdown",
      "metadata": {
        "id": "mLhRyUdTBsuV",
        "colab_type": "text"
      },
      "source": [
        "##**Submission NLP**"
      ]
    },
    {
      "cell_type": "markdown",
      "metadata": {
        "id": "834kLnf9BGde",
        "colab_type": "text"
      },
      "source": [
        "Saya akan membuat prediksi genre (komedi, horor, action) suatu film berdasarkan plot yang disediakan. Untuk datasetnya, saya mengambil dari https://www.kaggle.com/jrobischon/wikipedia-movie-plots"
      ]
    },
    {
      "cell_type": "code",
      "metadata": {
        "id": "oxHGR99936xA",
        "colab_type": "code",
        "colab": {
          "base_uri": "https://localhost:8080/",
          "height": 129
        },
        "outputId": "fbeb19bb-079a-4bd1-d3cf-001fb83accaf"
      },
      "source": [
        "from google.colab import drive\n",
        "drive.mount('/content/drive')"
      ],
      "execution_count": 1,
      "outputs": [
        {
          "output_type": "stream",
          "text": [
            "Go to this URL in a browser: https://accounts.google.com/o/oauth2/auth?client_id=947318989803-6bn6qk8qdgf4n4g3pfee6491hc0brc4i.apps.googleusercontent.com&redirect_uri=urn%3aietf%3awg%3aoauth%3a2.0%3aoob&scope=email%20https%3a%2f%2fwww.googleapis.com%2fauth%2fdocs.test%20https%3a%2f%2fwww.googleapis.com%2fauth%2fdrive%20https%3a%2f%2fwww.googleapis.com%2fauth%2fdrive.photos.readonly%20https%3a%2f%2fwww.googleapis.com%2fauth%2fpeopleapi.readonly&response_type=code\n",
            "\n",
            "Enter your authorization code:\n",
            "··········\n",
            "Mounted at /content/drive\n"
          ],
          "name": "stdout"
        }
      ]
    },
    {
      "cell_type": "code",
      "metadata": {
        "id": "WYLBTizo335e",
        "colab_type": "code",
        "colab": {
          "base_uri": "https://localhost:8080/",
          "height": 293
        },
        "outputId": "c59b718a-8247-488e-f9af-325f14ee8046"
      },
      "source": [
        "import pandas as pd\n",
        "df = pd.read_csv('/content/drive/My Drive/wiki_movie_plots_deduped.csv')\n",
        "\n",
        "#melihat jumlah data\n",
        "df.info()"
      ],
      "execution_count": 2,
      "outputs": [
        {
          "output_type": "stream",
          "text": [
            "<class 'pandas.core.frame.DataFrame'>\n",
            "RangeIndex: 34886 entries, 0 to 34885\n",
            "Data columns (total 8 columns):\n",
            " #   Column            Non-Null Count  Dtype \n",
            "---  ------            --------------  ----- \n",
            " 0   Release Year      34886 non-null  int64 \n",
            " 1   Title             34886 non-null  object\n",
            " 2   Origin/Ethnicity  34886 non-null  object\n",
            " 3   Director          34886 non-null  object\n",
            " 4   Cast              33464 non-null  object\n",
            " 5   Genre             34886 non-null  object\n",
            " 6   Wiki Page         34886 non-null  object\n",
            " 7   Plot              34886 non-null  object\n",
            "dtypes: int64(1), object(7)\n",
            "memory usage: 2.1+ MB\n"
          ],
          "name": "stdout"
        }
      ]
    },
    {
      "cell_type": "code",
      "metadata": {
        "id": "0SbE6SPa4MtL",
        "colab_type": "code",
        "colab": {
          "base_uri": "https://localhost:8080/",
          "height": 237
        },
        "outputId": "f3fbf7f1-fd72-47d9-8473-ac66a242105e"
      },
      "source": [
        "#saya hanya memerlukan kolom Genre dengan Plot\n",
        "df = df[['Genre', 'Plot']]\n",
        "\n",
        "#kemudian mari kita lihat persebaran genre\n",
        "df['Genre'].value_counts()"
      ],
      "execution_count": 3,
      "outputs": [
        {
          "output_type": "execute_result",
          "data": {
            "text/plain": [
              "unknown                                               6083\n",
              "drama                                                 5964\n",
              "comedy                                                4379\n",
              "horror                                                1167\n",
              "action                                                1098\n",
              "                                                      ... \n",
              "action / adventure / thriller                            1\n",
              "fantasy, drama, children's, sci-fi, adventure, spy       1\n",
              "animation, fantasy                                       1\n",
              "action, comedy, drama, romance                           1\n",
              "fantasy romance, horror                                  1\n",
              "Name: Genre, Length: 2265, dtype: int64"
            ]
          },
          "metadata": {
            "tags": []
          },
          "execution_count": 3
        }
      ]
    },
    {
      "cell_type": "code",
      "metadata": {
        "id": "IazIQLRq4cAD",
        "colab_type": "code",
        "colab": {
          "base_uri": "https://localhost:8080/",
          "height": 206
        },
        "outputId": "4630c0d8-2387-4a7d-fe5b-16cb4f96cea3"
      },
      "source": [
        "#saya hanya akan memilih 3 genre saja yaitu comedy, horror, dan action\n",
        "label = ['comedy', 'horror', 'action']\n",
        "movie = df[df['Genre'].isin(label)].reset_index()\n",
        "\n",
        "#jika dilihat dari persebaran genre, genre comedy memiliki jumlah yang lebih besar (tidak seimbang)\n",
        "#oleh karena itu saya ingin menyamakan jumlah semua genre masing-masing 1000\n",
        "comedy = movie[movie['Genre']=='comedy'].iloc[:1000]\n",
        "horror = movie[movie['Genre']=='horror'].iloc[:1000]\n",
        "action = movie[movie['Genre']=='action'].iloc[:1000]\n",
        "\n",
        "clean_movie = pd.concat([comedy,horror,action], ignore_index=True)\n",
        "clean_movie = clean_movie[['Plot','Genre']]\n",
        "\n",
        "#karena label berupa data kategorikal maka harus dilakukan one hot encoding terlebih dahulu\n",
        "category = pd.get_dummies(clean_movie['Genre'])\n",
        "movie_new = pd.concat([clean_movie, category], axis=1)\n",
        "movie_new = movie_new.drop(columns='Genre')\n",
        "movie_new.head()"
      ],
      "execution_count": 4,
      "outputs": [
        {
          "output_type": "execute_result",
          "data": {
            "text/html": [
              "<div>\n",
              "<style scoped>\n",
              "    .dataframe tbody tr th:only-of-type {\n",
              "        vertical-align: middle;\n",
              "    }\n",
              "\n",
              "    .dataframe tbody tr th {\n",
              "        vertical-align: top;\n",
              "    }\n",
              "\n",
              "    .dataframe thead th {\n",
              "        text-align: right;\n",
              "    }\n",
              "</style>\n",
              "<table border=\"1\" class=\"dataframe\">\n",
              "  <thead>\n",
              "    <tr style=\"text-align: right;\">\n",
              "      <th></th>\n",
              "      <th>Plot</th>\n",
              "      <th>action</th>\n",
              "      <th>comedy</th>\n",
              "      <th>horror</th>\n",
              "    </tr>\n",
              "  </thead>\n",
              "  <tbody>\n",
              "    <tr>\n",
              "      <th>0</th>\n",
              "      <td>The film is about a family who move to the sub...</td>\n",
              "      <td>0</td>\n",
              "      <td>1</td>\n",
              "      <td>0</td>\n",
              "    </tr>\n",
              "    <tr>\n",
              "      <th>1</th>\n",
              "      <td>Before heading out to a baseball game at a nea...</td>\n",
              "      <td>0</td>\n",
              "      <td>1</td>\n",
              "      <td>0</td>\n",
              "    </tr>\n",
              "    <tr>\n",
              "      <th>2</th>\n",
              "      <td>The plot is that of a black woman going to the...</td>\n",
              "      <td>0</td>\n",
              "      <td>1</td>\n",
              "      <td>0</td>\n",
              "    </tr>\n",
              "    <tr>\n",
              "      <th>3</th>\n",
              "      <td>A young couple decides to elope after being ca...</td>\n",
              "      <td>0</td>\n",
              "      <td>1</td>\n",
              "      <td>0</td>\n",
              "    </tr>\n",
              "    <tr>\n",
              "      <th>4</th>\n",
              "      <td>Hemlock Hoax is a detective who has little res...</td>\n",
              "      <td>0</td>\n",
              "      <td>1</td>\n",
              "      <td>0</td>\n",
              "    </tr>\n",
              "  </tbody>\n",
              "</table>\n",
              "</div>"
            ],
            "text/plain": [
              "                                                Plot  action  comedy  horror\n",
              "0  The film is about a family who move to the sub...       0       1       0\n",
              "1  Before heading out to a baseball game at a nea...       0       1       0\n",
              "2  The plot is that of a black woman going to the...       0       1       0\n",
              "3  A young couple decides to elope after being ca...       0       1       0\n",
              "4  Hemlock Hoax is a detective who has little res...       0       1       0"
            ]
          },
          "metadata": {
            "tags": []
          },
          "execution_count": 4
        }
      ]
    },
    {
      "cell_type": "code",
      "metadata": {
        "id": "Etq03f5X8LdX",
        "colab_type": "code",
        "colab": {}
      },
      "source": [
        "#setelah data sudah bersih saatnya membagi data menjadi data latih dan data test\n",
        "\n",
        "from sklearn.model_selection import train_test_split\n",
        "X = movie_new['Plot'].values\n",
        "y = movie_new.drop(columns='Plot').values\n",
        "\n",
        "X_train, X_test, y_train, y_test = train_test_split(X,y,test_size=0.2)\n"
      ],
      "execution_count": 5,
      "outputs": []
    },
    {
      "cell_type": "code",
      "metadata": {
        "id": "AJ83uN0KDuSU",
        "colab_type": "code",
        "colab": {}
      },
      "source": [
        "#selanjutnya mengubah kata dalam plot menjadi numerik dan melakukan normalisasi\n",
        "from tensorflow.keras.preprocessing.text import Tokenizer\n",
        "from tensorflow.keras.preprocessing.sequence import pad_sequences\n",
        "\n",
        "tokenizer = Tokenizer(num_words=8500, oov_token='x')\n",
        "tokenizer.fit_on_texts(X_train)\n",
        "tokenizer.fit_on_texts(X_test)\n",
        "\n",
        "#transform\n",
        "train_seq = tokenizer.texts_to_sequences(X_train)\n",
        "test_seq  = tokenizer.texts_to_sequences(X_test)\n",
        "\n",
        "#normalisasi\n",
        "train_pad = pad_sequences(train_seq)\n",
        "test_pad  = pad_sequences(test_seq)\n",
        "\n"
      ],
      "execution_count": 6,
      "outputs": []
    },
    {
      "cell_type": "code",
      "metadata": {
        "id": "le1wJ-9AHxrk",
        "colab_type": "code",
        "colab": {}
      },
      "source": [
        "#callback\n",
        "import tensorflow as tf\n",
        "\n",
        "class Callback(tf.keras.callbacks.Callback):\n",
        "    def on_epoch_end(self, epoch, logs={}):\n",
        "      if(logs.get('accuracy')>0.95):\n",
        "        print(\"\\nAkurasi telah mencapai >95%!\")\n",
        "        self.model.stop_training = True\n",
        "callback = Callback()  "
      ],
      "execution_count": 7,
      "outputs": []
    },
    {
      "cell_type": "code",
      "metadata": {
        "id": "vuft5w1EF5kR",
        "colab_type": "code",
        "colab": {
          "base_uri": "https://localhost:8080/",
          "height": 201
        },
        "outputId": "a9dc65e9-2f83-45ab-a938-14866655623f"
      },
      "source": [
        "#selanjutnya membuat model kemudian melatih model\n",
        "\n",
        "import tensorflow as tf\n",
        "model = tf.keras.Sequential([\n",
        "                              tf.keras.layers.Embedding(input_dim=8500, output_dim=16),\n",
        "                              tf.keras.layers.LSTM(64),\n",
        "                              tf.keras.layers.Dense(256, activation='relu'),\n",
        "                              tf.keras.layers.Dropout(0.5),\n",
        "                              tf.keras.layers.Dense(128, activation='relu'),\n",
        "                              tf.keras.layers.Dropout(0.5),\n",
        "                              tf.keras.layers.Dense(64),\n",
        "                              tf.keras.layers.Dense(3, activation='softmax')\n",
        "                            ])\n",
        "model.compile(loss='categorical_crossentropy',optimizer='adam',metrics=['accuracy'])\n",
        "history = model.fit(train_pad, y_train, epochs=30, \n",
        "                    validation_data=(test_pad, y_test), verbose=2, callbacks=[callback])\n"
      ],
      "execution_count": 11,
      "outputs": [
        {
          "output_type": "stream",
          "text": [
            "Epoch 1/30\n",
            "75/75 - 84s - loss: 1.0993 - accuracy: 0.3329 - val_loss: 1.0895 - val_accuracy: 0.4917\n",
            "Epoch 2/30\n",
            "75/75 - 81s - loss: 0.9594 - accuracy: 0.5092 - val_loss: 0.8294 - val_accuracy: 0.6283\n",
            "Epoch 3/30\n",
            "75/75 - 82s - loss: 0.5079 - accuracy: 0.8067 - val_loss: 0.7148 - val_accuracy: 0.7250\n",
            "Epoch 4/30\n",
            "\n",
            "Akurasi telah mencapai >95%!\n",
            "75/75 - 84s - loss: 0.1373 - accuracy: 0.9521 - val_loss: 0.9035 - val_accuracy: 0.7717\n"
          ],
          "name": "stdout"
        }
      ]
    },
    {
      "cell_type": "code",
      "metadata": {
        "id": "GXhKwYDFIM5T",
        "colab_type": "code",
        "colab": {
          "base_uri": "https://localhost:8080/",
          "height": 607
        },
        "outputId": "7e1f53b7-c1ef-4041-d85b-cbb706f84a85"
      },
      "source": [
        "#plot akurasi\n",
        "import matplotlib.pyplot as plt\n",
        "\n",
        "acc = history.history['accuracy']\n",
        "val_acc = history.history['val_accuracy']\n",
        "\n",
        "loss=history.history['loss']\n",
        "val_loss=history.history['val_loss']\n",
        "\n",
        "epochs_range = range(4) \n",
        "plt.figure(figsize=(10, 10))\n",
        "\n",
        "#visualisasi training and validation accurancy\n",
        "plt.subplot(1, 2, 1)\n",
        "plt.plot(epochs_range, acc, label='Training Accuracy')\n",
        "plt.plot(epochs_range, val_acc, label='Validation Accuracy')\n",
        "plt.legend(loc='lower right')\n",
        "plt.title('Training and Validation Accuracy')\n",
        "\n",
        "#visualisasi training and validation loss \n",
        "plt.subplot(1, 2, 2)\n",
        "plt.plot(epochs_range, loss, label='Training Loss')\n",
        "plt.plot(epochs_range, val_loss, label='Validation Loss')\n",
        "plt.legend(loc='upper right')\n",
        "plt.title('Training and Validation Loss')\n",
        "plt.show()"
      ],
      "execution_count": 13,
      "outputs": [
        {
          "output_type": "display_data",
          "data": {
            "image/png": "[encoded data removed]",
            "text/plain": [
              "<Figure size 720x720 with 2 Axes>"
            ]
          },
          "metadata": {
            "tags": [],
            "needs_background": "light"
          }
        }
      ]
    },
    {
      "cell_type": "code",
      "metadata": {
        "id": "A_fO19dnQ9Mf",
        "colab_type": "code",
        "colab": {}
      },
      "source": [
        ""
      ],
      "execution_count": null,
      "outputs": []
    }
  ]
}