{
  "nbformat": 4,
  "nbformat_minor": 0,
  "metadata": {
    "colab": {
      "name": "Submission Time Series.ipynb",
      "provenance": [],
      "collapsed_sections": []
    },
    "kernelspec": {
      "name": "python3",
      "display_name": "Python 3"
    }
  },
  "cells": [
    {
      "cell_type": "markdown",
      "metadata": {
        "id": "dhfjuPJF6AaR",
        "colab_type": "text"
      },
      "source": [
        "#**Submission Time Series**"
      ]
    },
    {
      "cell_type": "markdown",
      "metadata": {
        "id": "3zznN23u6lxX",
        "colab_type": "text"
      },
      "source": [
        "Dataset yang saya gunakan yaitu data penjualan \"harian\" obat-obatan pada tahun 2014-2019 yang dapat dilihat pada https://www.kaggle.com/milanzdravkovic/pharma-sales-data.\n",
        "\n",
        "Di dalam data ini terdapat beberapa istilah pada nama kolom, yaitu:\n",
        "1. M01AB = Anti-inflammatory and antirheumatic products, non-steroids, Acetic acid derivatives and related substances\n",
        "2. M01AE = Anti-inflammatory and antirheumatic products, non-steroids, Propionic acid derivatives\n",
        "3. N02BA = Other analgesics and antipyretics, Salicylic acid and derivatives\n",
        "4. N02BE/B = Other analgesics and antipyretics, Pyrazolones and Anilides\n",
        "5. N05B = Psycholeptics drugs, Anxiolytic drugs\n",
        "6. N05C = Psycholeptics drugs, Hypnotics and sedatives drugs\n",
        "7. R03 = Drugs for obstructive airway diseases\n",
        "8. R06 = Antihistamines for systemic use\n",
        "\n",
        "\n"
      ]
    },
    {
      "cell_type": "code",
      "metadata": {
        "id": "JczIfb9H53Iy",
        "colab_type": "code",
        "colab": {
          "base_uri": "https://localhost:8080/",
          "height": 129
        },
        "outputId": "8b629b03-4e4e-4b93-f88c-fbd8f1068e18"
      },
      "source": [
        "from google.colab import drive\n",
        "drive.mount('/content/drive')"
      ],
      "execution_count": 2,
      "outputs": [
        {
          "output_type": "stream",
          "text": [
            "Go to this URL in a browser: https://accounts.google.com/o/oauth2/auth?client_id=947318989803-6bn6qk8qdgf4n4g3pfee6491hc0brc4i.apps.googleusercontent.com&redirect_uri=urn%3aietf%3awg%3aoauth%3a2.0%3aoob&scope=email%20https%3a%2f%2fwww.googleapis.com%2fauth%2fdocs.test%20https%3a%2f%2fwww.googleapis.com%2fauth%2fdrive%20https%3a%2f%2fwww.googleapis.com%2fauth%2fdrive.photos.readonly%20https%3a%2f%2fwww.googleapis.com%2fauth%2fpeopleapi.readonly&response_type=code\n",
            "\n",
            "Enter your authorization code:\n",
            "··········\n",
            "Mounted at /content/drive\n"
          ],
          "name": "stdout"
        }
      ]
    },
    {
      "cell_type": "code",
      "metadata": {
        "id": "IvZvSsHR5fuZ",
        "colab_type": "code",
        "colab": {}
      },
      "source": [
        "import pandas as pd\n",
        "import numpy as np\n",
        "from tensorflow.keras.layers import Dense, LSTM\n",
        "from tensorflow.keras.models import Sequential\n",
        "import tensorflow as tf"
      ],
      "execution_count": 1,
      "outputs": []
    },
    {
      "cell_type": "code",
      "metadata": {
        "id": "L9ACBWH551RV",
        "colab_type": "code",
        "colab": {
          "base_uri": "https://localhost:8080/",
          "height": 384
        },
        "outputId": "91337a3a-57f2-444c-c330-a893228d6ad7"
      },
      "source": [
        "df = pd.read_csv('/content/drive/My Drive/pharma_sales_daily.csv')\n",
        "df.info()"
      ],
      "execution_count": 24,
      "outputs": [
        {
          "output_type": "stream",
          "text": [
            "<class 'pandas.core.frame.DataFrame'>\n",
            "RangeIndex: 2106 entries, 0 to 2105\n",
            "Data columns (total 13 columns):\n",
            " #   Column        Non-Null Count  Dtype  \n",
            "---  ------        --------------  -----  \n",
            " 0   datum         2106 non-null   object \n",
            " 1   M01AB         2106 non-null   float64\n",
            " 2   M01AE         2106 non-null   float64\n",
            " 3   N02BA         2106 non-null   float64\n",
            " 4   N02BE         2106 non-null   float64\n",
            " 5   N05B          2106 non-null   float64\n",
            " 6   N05C          2106 non-null   float64\n",
            " 7   R03           2106 non-null   float64\n",
            " 8   R06           2106 non-null   float64\n",
            " 9   Year          2106 non-null   int64  \n",
            " 10  Month         2106 non-null   int64  \n",
            " 11  Hour          2106 non-null   int64  \n",
            " 12  Weekday Name  2106 non-null   object \n",
            "dtypes: float64(8), int64(3), object(2)\n",
            "memory usage: 214.0+ KB\n"
          ],
          "name": "stdout"
        }
      ]
    },
    {
      "cell_type": "code",
      "metadata": {
        "id": "Uf_2a8jg50Z0",
        "colab_type": "code",
        "colab": {
          "base_uri": "https://localhost:8080/",
          "height": 274
        },
        "outputId": "d7482ca1-2230-450c-d927-7cb98c5b298e"
      },
      "source": [
        "#cek jumlah null value\n",
        "df.isnull().sum()"
      ],
      "execution_count": 5,
      "outputs": [
        {
          "output_type": "execute_result",
          "data": {
            "text/plain": [
              "datum           0\n",
              "M01AB           0\n",
              "M01AE           0\n",
              "N02BA           0\n",
              "N02BE           0\n",
              "N05B            0\n",
              "N05C            0\n",
              "R03             0\n",
              "R06             0\n",
              "Year            0\n",
              "Month           0\n",
              "Hour            0\n",
              "Weekday Name    0\n",
              "dtype: int64"
            ]
          },
          "metadata": {
            "tags": []
          },
          "execution_count": 5
        }
      ]
    },
    {
      "cell_type": "code",
      "metadata": {
        "id": "8j6z8S1u73le",
        "colab_type": "code",
        "colab": {}
      },
      "source": [
        "#Saya akan memprediksi penjualan N02BE(Other analgesics and antipyretics, Pyrazolones and Anilides)\n",
        "#Oleh karena itu, saya hanya menggunakan 2 kolom (datum, N02BE)\n",
        "dates = df['datum'].values\n",
        "N02BE = df['N02BE'].values"
      ],
      "execution_count": 25,
      "outputs": []
    },
    {
      "cell_type": "code",
      "metadata": {
        "id": "4RC6s7wHDSBC",
        "colab_type": "code",
        "colab": {
          "base_uri": "https://localhost:8080/",
          "height": 54
        },
        "outputId": "f0fe7ff0-60bc-4eb4-c5c6-935e94646129"
      },
      "source": [
        "#split data menjadi train, test\n",
        "from sklearn.model_selection import train_test_split\n",
        "date_train, date_test, N02BE_train, N02BE_test = train_test_split(dates, N02BE, test_size=0.2)\n",
        "print(N02BE_train.shape)\n",
        "print(N02BE_test.shape)"
      ],
      "execution_count": 26,
      "outputs": [
        {
          "output_type": "stream",
          "text": [
            "(1684,)\n",
            "(422,)\n"
          ],
          "name": "stdout"
        }
      ]
    },
    {
      "cell_type": "code",
      "metadata": {
        "id": "_9htqvWF96mX",
        "colab_type": "code",
        "colab": {}
      },
      "source": [
        "#mengubah data supaya dapat diterima model \n",
        "def windowed_dataset(series, window_size, batch_size, shuffle_buffer):\n",
        "  series = tf.expand_dims(series, axis=-1)\n",
        "  ds     = tf.data.Dataset.from_tensor_slices(series)\n",
        "  ds     = ds.window(window_size + 1, shift=1, drop_remainder=True)\n",
        "  ds     = ds.flat_map(lambda w: w.batch(window_size + 1))\n",
        "  ds     = ds.shuffle(shuffle_buffer)\n",
        "  ds     = ds.map(lambda w: (w[:-1], w[1:]))\n",
        "  return ds.batch(batch_size).prefetch(1)\n",
        "\n",
        "  \n",
        "#mengubah data\n",
        "windowed_train = windowed_dataset(N02BE_train, window_size=60, batch_size=100, shuffle_buffer=1000)\n",
        "windowed_test = windowed_dataset(N02BE_test, window_size=60, batch_size=100, shuffle_buffer=1000)"
      ],
      "execution_count": 27,
      "outputs": []
    },
    {
      "cell_type": "code",
      "metadata": {
        "id": "2-uW4MoYADX3",
        "colab_type": "code",
        "colab": {
          "base_uri": "https://localhost:8080/",
          "height": 1000
        },
        "outputId": "bd4dfa1f-8779-4459-f062-868132652214"
      },
      "source": [
        "#membuat model\n",
        "model = Sequential([\n",
        "                    LSTM(60, return_sequences=True),\n",
        "                    LSTM(60),\n",
        "                    Dense(30, activation='relu'),\n",
        "                    Dense(10, activation='relu'),\n",
        "                    Dense(1)\n",
        "                    ])\n",
        "optimizer = tf.keras.optimizers.SGD(learning_rate=1.0000e-04, momentum=0.9)\n",
        "model.compile(loss=tf.keras.losses.Huber(),\n",
        "              optimizer = optimizer,\n",
        "              metrics = ['mae'])\n",
        "\n",
        "#fit data dengan validation_split 0.2\n",
        "history = model.fit(windowed_train, validation_data=windowed_test, epochs=100)\n"
      ],
      "execution_count": 28,
      "outputs": [
        {
          "output_type": "stream",
          "text": [
            "Epoch 1/100\n",
            "WARNING:tensorflow:Layer lstm_6 is casting an input tensor from dtype float64 to the layer's dtype of float32, which is new behavior in TensorFlow 2.  The layer has dtype float32 because its dtype defaults to floatx.\n",
            "\n",
            "If you intended to run this layer in float32, you can safely ignore this warning. If in doubt, this warning is likely only an issue if you are porting a TensorFlow 1.X model to TensorFlow 2.\n",
            "\n",
            "To change all layers to have dtype float64 by default, call `tf.keras.backend.set_floatx('float64')`. To change just this layer, pass dtype='float64' to the layer constructor. If you are the author of this layer, you can disable autocasting by passing autocast=False to the base Layer constructor.\n",
            "\n",
            "17/17 [==============================] - 2s 142ms/step - loss: 29.1756 - mae: 29.6708 - val_loss: 28.4817 - val_mae: 28.9791\n",
            "Epoch 2/100\n",
            "17/17 [==============================] - 2s 108ms/step - loss: 28.9266 - mae: 29.4242 - val_loss: 28.2703 - val_mae: 28.7691\n",
            "Epoch 3/100\n",
            "17/17 [==============================] - 2s 102ms/step - loss: 28.7370 - mae: 29.2359 - val_loss: 28.0909 - val_mae: 28.5904\n",
            "Epoch 4/100\n",
            "17/17 [==============================] - 2s 102ms/step - loss: 28.5529 - mae: 29.0524 - val_loss: 27.8987 - val_mae: 28.3987\n",
            "Epoch 5/100\n",
            "17/17 [==============================] - 2s 103ms/step - loss: 28.3534 - mae: 28.8531 - val_loss: 27.6857 - val_mae: 28.1857\n",
            "Epoch 6/100\n",
            "17/17 [==============================] - 2s 100ms/step - loss: 28.1288 - mae: 28.6285 - val_loss: 27.4440 - val_mae: 27.9438\n",
            "Epoch 7/100\n",
            "17/17 [==============================] - 2s 98ms/step - loss: 27.8727 - mae: 28.3725 - val_loss: 27.1635 - val_mae: 27.6630\n",
            "Epoch 8/100\n",
            "17/17 [==============================] - 2s 98ms/step - loss: 27.5694 - mae: 28.0691 - val_loss: 26.8255 - val_mae: 27.3245\n",
            "Epoch 9/100\n",
            "17/17 [==============================] - 2s 100ms/step - loss: 27.2021 - mae: 27.7018 - val_loss: 26.4153 - val_mae: 26.9149\n",
            "Epoch 10/100\n",
            "17/17 [==============================] - 2s 99ms/step - loss: 26.7542 - mae: 27.2540 - val_loss: 25.9113 - val_mae: 26.4113\n",
            "Epoch 11/100\n",
            "17/17 [==============================] - 2s 106ms/step - loss: 26.1990 - mae: 26.6988 - val_loss: 25.2797 - val_mae: 25.7797\n",
            "Epoch 12/100\n",
            "17/17 [==============================] - 2s 100ms/step - loss: 25.4963 - mae: 25.9963 - val_loss: 24.4707 - val_mae: 24.9707\n",
            "Epoch 13/100\n",
            "17/17 [==============================] - 2s 103ms/step - loss: 24.5874 - mae: 25.0874 - val_loss: 23.4123 - val_mae: 23.9114\n",
            "Epoch 14/100\n",
            "17/17 [==============================] - 2s 103ms/step - loss: 23.3818 - mae: 23.8810 - val_loss: 21.9990 - val_mae: 22.4977\n",
            "Epoch 15/100\n",
            "17/17 [==============================] - 2s 101ms/step - loss: 21.7533 - mae: 22.2514 - val_loss: 20.0940 - val_mae: 20.5905\n",
            "Epoch 16/100\n",
            "17/17 [==============================] - 2s 100ms/step - loss: 19.5686 - mae: 20.0643 - val_loss: 17.5932 - val_mae: 18.0870\n",
            "Epoch 17/100\n",
            "17/17 [==============================] - 2s 99ms/step - loss: 16.8203 - mae: 17.3133 - val_loss: 14.6748 - val_mae: 15.1678\n",
            "Epoch 18/100\n",
            "17/17 [==============================] - 2s 101ms/step - loss: 14.0143 - mae: 14.5045 - val_loss: 12.2075 - val_mae: 12.6989\n",
            "Epoch 19/100\n",
            "17/17 [==============================] - 2s 103ms/step - loss: 12.0942 - mae: 12.5827 - val_loss: 10.8904 - val_mae: 11.3789\n",
            "Epoch 20/100\n",
            "17/17 [==============================] - 2s 106ms/step - loss: 11.4102 - mae: 11.8994 - val_loss: 10.5394 - val_mae: 11.0269\n",
            "Epoch 21/100\n",
            "17/17 [==============================] - 2s 100ms/step - loss: 11.3069 - mae: 11.7982 - val_loss: 10.5032 - val_mae: 10.9897\n",
            "Epoch 22/100\n",
            "17/17 [==============================] - 2s 101ms/step - loss: 11.3033 - mae: 11.7949 - val_loss: 10.5015 - val_mae: 10.9880\n",
            "Epoch 23/100\n",
            "17/17 [==============================] - 2s 101ms/step - loss: 11.3039 - mae: 11.7955 - val_loss: 10.5018 - val_mae: 10.9883\n",
            "Epoch 24/100\n",
            "17/17 [==============================] - 2s 100ms/step - loss: 11.3036 - mae: 11.7953 - val_loss: 10.5020 - val_mae: 10.9885\n",
            "Epoch 25/100\n",
            "17/17 [==============================] - 2s 100ms/step - loss: 11.3036 - mae: 11.7952 - val_loss: 10.5024 - val_mae: 10.9889\n",
            "Epoch 26/100\n",
            "17/17 [==============================] - 2s 100ms/step - loss: 11.3035 - mae: 11.7951 - val_loss: 10.5026 - val_mae: 10.9891\n",
            "Epoch 27/100\n",
            "17/17 [==============================] - 2s 105ms/step - loss: 11.3035 - mae: 11.7952 - val_loss: 10.5030 - val_mae: 10.9895\n",
            "Epoch 28/100\n",
            "17/17 [==============================] - 2s 102ms/step - loss: 11.3035 - mae: 11.7951 - val_loss: 10.5031 - val_mae: 10.9895\n",
            "Epoch 29/100\n",
            "17/17 [==============================] - 2s 101ms/step - loss: 11.3034 - mae: 11.7950 - val_loss: 10.5026 - val_mae: 10.9891\n",
            "Epoch 30/100\n",
            "17/17 [==============================] - 2s 99ms/step - loss: 11.3034 - mae: 11.7951 - val_loss: 10.5025 - val_mae: 10.9890\n",
            "Epoch 31/100\n",
            "17/17 [==============================] - 2s 102ms/step - loss: 11.3034 - mae: 11.7951 - val_loss: 10.5025 - val_mae: 10.9890\n",
            "Epoch 32/100\n",
            "17/17 [==============================] - 2s 101ms/step - loss: 11.3034 - mae: 11.7951 - val_loss: 10.5028 - val_mae: 10.9892\n",
            "Epoch 33/100\n",
            "17/17 [==============================] - 2s 103ms/step - loss: 11.3034 - mae: 11.7950 - val_loss: 10.5026 - val_mae: 10.9891\n",
            "Epoch 34/100\n",
            "17/17 [==============================] - 2s 103ms/step - loss: 11.3034 - mae: 11.7951 - val_loss: 10.5026 - val_mae: 10.9891\n",
            "Epoch 35/100\n",
            "17/17 [==============================] - 2s 103ms/step - loss: 11.3034 - mae: 11.7950 - val_loss: 10.5027 - val_mae: 10.9892\n",
            "Epoch 36/100\n",
            "17/17 [==============================] - 2s 101ms/step - loss: 11.3034 - mae: 11.7950 - val_loss: 10.5027 - val_mae: 10.9892\n",
            "Epoch 37/100\n",
            "17/17 [==============================] - 2s 100ms/step - loss: 11.3034 - mae: 11.7950 - val_loss: 10.5029 - val_mae: 10.9894\n",
            "Epoch 38/100\n",
            "17/17 [==============================] - 2s 100ms/step - loss: 11.3034 - mae: 11.7950 - val_loss: 10.5029 - val_mae: 10.9893\n",
            "Epoch 39/100\n",
            "17/17 [==============================] - 2s 101ms/step - loss: 11.3034 - mae: 11.7950 - val_loss: 10.5029 - val_mae: 10.9893\n",
            "Epoch 40/100\n",
            "17/17 [==============================] - 2s 100ms/step - loss: 11.3033 - mae: 11.7950 - val_loss: 10.5026 - val_mae: 10.9891\n",
            "Epoch 41/100\n",
            "17/17 [==============================] - 2s 104ms/step - loss: 11.3034 - mae: 11.7950 - val_loss: 10.5028 - val_mae: 10.9893\n",
            "Epoch 42/100\n",
            "17/17 [==============================] - 2s 101ms/step - loss: 11.3033 - mae: 11.7950 - val_loss: 10.5027 - val_mae: 10.9892\n",
            "Epoch 43/100\n",
            "17/17 [==============================] - 2s 100ms/step - loss: 11.3033 - mae: 11.7950 - val_loss: 10.5027 - val_mae: 10.9892\n",
            "Epoch 44/100\n",
            "17/17 [==============================] - 2s 100ms/step - loss: 11.3034 - mae: 11.7950 - val_loss: 10.5028 - val_mae: 10.9893\n",
            "Epoch 45/100\n",
            "17/17 [==============================] - 2s 100ms/step - loss: 11.3034 - mae: 11.7950 - val_loss: 10.5028 - val_mae: 10.9893\n",
            "Epoch 46/100\n",
            "17/17 [==============================] - 2s 99ms/step - loss: 11.3033 - mae: 11.7950 - val_loss: 10.5027 - val_mae: 10.9892\n",
            "Epoch 47/100\n",
            "17/17 [==============================] - 2s 101ms/step - loss: 11.3033 - mae: 11.7950 - val_loss: 10.5029 - val_mae: 10.9894\n",
            "Epoch 48/100\n",
            "17/17 [==============================] - 2s 101ms/step - loss: 11.3033 - mae: 11.7949 - val_loss: 10.5028 - val_mae: 10.9893\n",
            "Epoch 49/100\n",
            "17/17 [==============================] - 2s 100ms/step - loss: 11.3033 - mae: 11.7950 - val_loss: 10.5028 - val_mae: 10.9893\n",
            "Epoch 50/100\n",
            "17/17 [==============================] - 2s 101ms/step - loss: 11.3033 - mae: 11.7949 - val_loss: 10.5029 - val_mae: 10.9894\n",
            "Epoch 51/100\n",
            "17/17 [==============================] - 2s 101ms/step - loss: 11.3033 - mae: 11.7949 - val_loss: 10.5028 - val_mae: 10.9893\n",
            "Epoch 52/100\n",
            "17/17 [==============================] - 2s 102ms/step - loss: 11.3033 - mae: 11.7949 - val_loss: 10.5026 - val_mae: 10.9891\n",
            "Epoch 53/100\n",
            "17/17 [==============================] - 2s 100ms/step - loss: 11.3034 - mae: 11.7950 - val_loss: 10.5031 - val_mae: 10.9896\n",
            "Epoch 54/100\n",
            "17/17 [==============================] - 2s 104ms/step - loss: 11.3033 - mae: 11.7949 - val_loss: 10.5031 - val_mae: 10.9896\n",
            "Epoch 55/100\n",
            "17/17 [==============================] - 2s 100ms/step - loss: 11.3033 - mae: 11.7949 - val_loss: 10.5030 - val_mae: 10.9895\n",
            "Epoch 56/100\n",
            "17/17 [==============================] - 2s 101ms/step - loss: 11.3033 - mae: 11.7949 - val_loss: 10.5027 - val_mae: 10.9892\n",
            "Epoch 57/100\n",
            "17/17 [==============================] - 2s 100ms/step - loss: 11.3033 - mae: 11.7949 - val_loss: 10.5029 - val_mae: 10.9894\n",
            "Epoch 58/100\n",
            "17/17 [==============================] - 2s 101ms/step - loss: 11.3033 - mae: 11.7949 - val_loss: 10.5027 - val_mae: 10.9892\n",
            "Epoch 59/100\n",
            "17/17 [==============================] - 2s 100ms/step - loss: 11.3033 - mae: 11.7949 - val_loss: 10.5025 - val_mae: 10.9890\n",
            "Epoch 60/100\n",
            "17/17 [==============================] - 2s 100ms/step - loss: 11.3033 - mae: 11.7949 - val_loss: 10.5025 - val_mae: 10.9890\n",
            "Epoch 61/100\n",
            "17/17 [==============================] - 2s 99ms/step - loss: 11.3033 - mae: 11.7949 - val_loss: 10.5025 - val_mae: 10.9890\n",
            "Epoch 62/100\n",
            "17/17 [==============================] - 2s 99ms/step - loss: 11.3033 - mae: 11.7949 - val_loss: 10.5025 - val_mae: 10.9890\n",
            "Epoch 63/100\n",
            "17/17 [==============================] - 2s 101ms/step - loss: 11.3033 - mae: 11.7949 - val_loss: 10.5028 - val_mae: 10.9892\n",
            "Epoch 64/100\n",
            "17/17 [==============================] - 2s 100ms/step - loss: 11.3033 - mae: 11.7949 - val_loss: 10.5027 - val_mae: 10.9892\n",
            "Epoch 65/100\n",
            "17/17 [==============================] - 2s 99ms/step - loss: 11.3032 - mae: 11.7948 - val_loss: 10.5025 - val_mae: 10.9890\n",
            "Epoch 66/100\n",
            "17/17 [==============================] - 2s 101ms/step - loss: 11.3032 - mae: 11.7949 - val_loss: 10.5022 - val_mae: 10.9887\n",
            "Epoch 67/100\n",
            "17/17 [==============================] - 2s 99ms/step - loss: 11.3033 - mae: 11.7949 - val_loss: 10.5024 - val_mae: 10.9889\n",
            "Epoch 68/100\n",
            "17/17 [==============================] - 2s 102ms/step - loss: 11.3033 - mae: 11.7949 - val_loss: 10.5026 - val_mae: 10.9891\n",
            "Epoch 69/100\n",
            "17/17 [==============================] - 2s 103ms/step - loss: 11.3032 - mae: 11.7948 - val_loss: 10.5026 - val_mae: 10.9891\n",
            "Epoch 70/100\n",
            "17/17 [==============================] - 2s 101ms/step - loss: 11.3032 - mae: 11.7948 - val_loss: 10.5028 - val_mae: 10.9893\n",
            "Epoch 71/100\n",
            "17/17 [==============================] - 2s 101ms/step - loss: 11.3032 - mae: 11.7948 - val_loss: 10.5025 - val_mae: 10.9890\n",
            "Epoch 72/100\n",
            "17/17 [==============================] - 2s 101ms/step - loss: 11.3032 - mae: 11.7948 - val_loss: 10.5027 - val_mae: 10.9892\n",
            "Epoch 73/100\n",
            "17/17 [==============================] - 2s 100ms/step - loss: 11.3032 - mae: 11.7948 - val_loss: 10.5027 - val_mae: 10.9892\n",
            "Epoch 74/100\n",
            "17/17 [==============================] - 2s 99ms/step - loss: 11.3032 - mae: 11.7948 - val_loss: 10.5023 - val_mae: 10.9888\n",
            "Epoch 75/100\n",
            "17/17 [==============================] - 2s 102ms/step - loss: 11.3032 - mae: 11.7948 - val_loss: 10.5022 - val_mae: 10.9887\n",
            "Epoch 76/100\n",
            "17/17 [==============================] - 2s 101ms/step - loss: 11.3033 - mae: 11.7949 - val_loss: 10.5027 - val_mae: 10.9892\n",
            "Epoch 77/100\n",
            "17/17 [==============================] - 2s 100ms/step - loss: 11.3032 - mae: 11.7948 - val_loss: 10.5025 - val_mae: 10.9890\n",
            "Epoch 78/100\n",
            "17/17 [==============================] - 2s 101ms/step - loss: 11.3032 - mae: 11.7948 - val_loss: 10.5025 - val_mae: 10.9890\n",
            "Epoch 79/100\n",
            "17/17 [==============================] - 2s 107ms/step - loss: 11.3032 - mae: 11.7948 - val_loss: 10.5024 - val_mae: 10.9889\n",
            "Epoch 80/100\n",
            "17/17 [==============================] - 2s 101ms/step - loss: 11.3032 - mae: 11.7948 - val_loss: 10.5023 - val_mae: 10.9888\n",
            "Epoch 81/100\n",
            "17/17 [==============================] - 2s 106ms/step - loss: 11.3033 - mae: 11.7949 - val_loss: 10.5027 - val_mae: 10.9892\n",
            "Epoch 82/100\n",
            "17/17 [==============================] - 2s 102ms/step - loss: 11.3031 - mae: 11.7947 - val_loss: 10.5027 - val_mae: 10.9892\n",
            "Epoch 83/100\n",
            "17/17 [==============================] - 2s 102ms/step - loss: 11.3031 - mae: 11.7947 - val_loss: 10.5025 - val_mae: 10.9890\n",
            "Epoch 84/100\n",
            "17/17 [==============================] - 2s 103ms/step - loss: 11.3031 - mae: 11.7947 - val_loss: 10.5024 - val_mae: 10.9889\n",
            "Epoch 85/100\n",
            "17/17 [==============================] - 2s 100ms/step - loss: 11.3032 - mae: 11.7948 - val_loss: 10.5025 - val_mae: 10.9890\n",
            "Epoch 86/100\n",
            "17/17 [==============================] - 2s 102ms/step - loss: 11.3031 - mae: 11.7947 - val_loss: 10.5026 - val_mae: 10.9890\n",
            "Epoch 87/100\n",
            "17/17 [==============================] - 2s 100ms/step - loss: 11.3032 - mae: 11.7948 - val_loss: 10.5028 - val_mae: 10.9893\n",
            "Epoch 88/100\n",
            "17/17 [==============================] - 2s 102ms/step - loss: 11.3032 - mae: 11.7947 - val_loss: 10.5028 - val_mae: 10.9893\n",
            "Epoch 89/100\n",
            "17/17 [==============================] - 2s 106ms/step - loss: 11.3031 - mae: 11.7947 - val_loss: 10.5023 - val_mae: 10.9888\n",
            "Epoch 90/100\n",
            "17/17 [==============================] - 2s 105ms/step - loss: 11.3031 - mae: 11.7947 - val_loss: 10.5023 - val_mae: 10.9888\n",
            "Epoch 91/100\n",
            "17/17 [==============================] - 2s 99ms/step - loss: 11.3031 - mae: 11.7947 - val_loss: 10.5023 - val_mae: 10.9888\n",
            "Epoch 92/100\n",
            "17/17 [==============================] - 2s 100ms/step - loss: 11.3031 - mae: 11.7947 - val_loss: 10.5023 - val_mae: 10.9888\n",
            "Epoch 93/100\n",
            "17/17 [==============================] - 2s 100ms/step - loss: 11.3031 - mae: 11.7947 - val_loss: 10.5027 - val_mae: 10.9892\n",
            "Epoch 94/100\n",
            "17/17 [==============================] - 2s 101ms/step - loss: 11.3031 - mae: 11.7947 - val_loss: 10.5029 - val_mae: 10.9894\n",
            "Epoch 95/100\n",
            "17/17 [==============================] - 2s 102ms/step - loss: 11.3030 - mae: 11.7946 - val_loss: 10.5026 - val_mae: 10.9890\n",
            "Epoch 96/100\n",
            "17/17 [==============================] - 2s 100ms/step - loss: 11.3031 - mae: 11.7947 - val_loss: 10.5025 - val_mae: 10.9890\n",
            "Epoch 97/100\n",
            "17/17 [==============================] - 2s 102ms/step - loss: 11.3031 - mae: 11.7947 - val_loss: 10.5023 - val_mae: 10.9888\n",
            "Epoch 98/100\n",
            "17/17 [==============================] - 2s 100ms/step - loss: 11.3031 - mae: 11.7947 - val_loss: 10.5025 - val_mae: 10.9890\n",
            "Epoch 99/100\n",
            "17/17 [==============================] - 2s 101ms/step - loss: 11.3031 - mae: 11.7947 - val_loss: 10.5026 - val_mae: 10.9891\n",
            "Epoch 100/100\n",
            "17/17 [==============================] - 2s 101ms/step - loss: 11.3030 - mae: 11.7946 - val_loss: 10.5023 - val_mae: 10.9888\n"
          ],
          "name": "stdout"
        }
      ]
    },
    {
      "cell_type": "code",
      "metadata": {
        "id": "xcmOb-RaFAqy",
        "colab_type": "code",
        "colab": {
          "base_uri": "https://localhost:8080/",
          "height": 54
        },
        "outputId": "339d3e3f-db6c-4a31-85b6-d67b2f96daec"
      },
      "source": [
        "#cek apakah nilai mae <10% skala data\n",
        "max = df['N02BE'].max()\n",
        "min = df['N02BE'].min()\n",
        "\n",
        "#train mae\n",
        "print(11.7946 < (max-min)/10)\n",
        "\n",
        "#val mae\n",
        "print(10.9888 < (max-min)/10)"
      ],
      "execution_count": 31,
      "outputs": [
        {
          "output_type": "stream",
          "text": [
            "True\n",
            "True\n"
          ],
          "name": "stdout"
        }
      ]
    },
    {
      "cell_type": "code",
      "metadata": {
        "id": "t0mZdWltC_WV",
        "colab_type": "code",
        "colab": {
          "base_uri": "https://localhost:8080/",
          "height": 607
        },
        "outputId": "c97a4147-7044-4edf-e6b6-d870a71fd91d"
      },
      "source": [
        "#plot akurasi \n",
        "import matplotlib.pyplot as plt\n",
        "\n",
        "acc = history.history['mae']\n",
        "val_acc = history.history['val_mae']\n",
        "\n",
        "loss=history.history['loss']\n",
        "val_loss=history.history['val_loss']\n",
        "\n",
        "epochs_range = range(100) \n",
        "plt.figure(figsize=(10, 10))\n",
        "\n",
        "#visualisasi training and validation accurancy\n",
        "plt.subplot(1, 2, 1)\n",
        "plt.plot(epochs_range, acc, label='Training MAE Score')\n",
        "plt.plot(epochs_range, val_acc, label='Validation MAE Score')\n",
        "plt.legend(loc='best')\n",
        "plt.title('Training and Validation MAE Score')\n",
        "\n",
        "#visualisasi training and validation loss \n",
        "plt.subplot(1, 2, 2)\n",
        "plt.plot(epochs_range, loss, label='Training Loss')\n",
        "plt.plot(epochs_range, val_loss, label='Validation Loss')\n",
        "plt.legend(loc='best')\n",
        "plt.title('Training and Validation Loss')\n",
        "plt.show()"
      ],
      "execution_count": 32,
      "outputs": [
        {
          "output_type": "display_data",
          "data": {
            "image/png": "[encoded data removed]",
            "text/plain": [
              "<Figure size 720x720 with 2 Axes>"
            ]
          },
          "metadata": {
            "tags": [],
            "needs_background": "light"
          }
        }
      ]
    }
  ]
}